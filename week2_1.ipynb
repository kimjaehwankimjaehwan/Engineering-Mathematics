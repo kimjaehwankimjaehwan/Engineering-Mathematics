{
 "cells": [
  {
   "cell_type": "markdown",
   "metadata": {},
   "source": [
    "\n",
    "\n",
    "**양함수형 1계 상미분방정식**\n",
    "\n",
    "-  형태: $y^{\\prime } (x)=f(x,y)$\n",
    "-  예시:\n",
    "-  $\\displaystyle y^{\\prime } =5x^2 y^2 +3$\n",
    "-  $\\displaystyle y^{\\prime } =\\frac{1}{5}y+3x$\n",
    "\n",
    "예시 1: $y^{\\prime } =5x^2 y^2 +3$\n",
    ""
   ]
  },
  {
   "cell_type": "code",
   "execution_count": 1,
   "metadata": {},
   "source": [
    "syms x y(x)\n",
    "% 미분방정식 정의\n",
    "ode1 = diff(y, x) == 5*x^2*y^2 + 3;\n",
    "\n",
    "% 일반 해 구하기\n",
    "sol1 = dsolve(ode1);\n",
    "disp(sol1);"
   ],
   "outputs": [
    {
     "data": {
      "text/latex": [
       "$\\displaystyle -\\frac{\\sqrt{15}\\,{{\\textrm{Y}}}_{-\\frac{1}{4}} \\left(\\frac{\\sqrt{15}\\,x^2 }{2}\\right)+\\sqrt{15}\\,C_1 \\,{{\\textrm{J}}}_{-\\frac{1}{4}} \\left(\\frac{\\sqrt{15}\\,x^2 }{2}\\right)}{5\\,{\\left(x\\,{{\\textrm{Y}}}_{\\frac{3}{4}} \\left(\\frac{\\sqrt{15}\\,x^2 }{2}\\right)+C_1 \\,x\\,{{\\textrm{J}}}_{\\frac{3}{4}} \\left(\\frac{\\sqrt{15}\\,x^2 }{2}\\right)\\right)}}$"
      ]
     },
     "metadata": {},
     "execution_count":  1,
     "output_type": "execute_result"
    }
   ]
  },
  {
   "cell_type": "markdown",
   "metadata": {},
   "source": [
    "\n",
    "예시 2: $y^{\\prime } =\\frac{1}{5}y+3x$\n",
    ""
   ]
  },
  {
   "cell_type": "code",
   "execution_count": 2,
   "metadata": {},
   "source": [
    "syms x y(x)\n",
    "% 미분방정식 정의\n",
    "ode2 = diff(y, x) == (1/5)*y + 3*x;\n",
    "\n",
    "% 일반 해 구하기\n",
    "sol2 = dsolve(ode2);\n",
    "disp(sol2);"
   ],
   "outputs": [
    {
     "data": {
      "text/latex": [
       "$\\displaystyle C_1 \\,{\\mathrm{e}}^{x/5} -15\\,x-75$"
      ]
     },
     "metadata": {},
     "execution_count":  2,
     "output_type": "execute_result"
    }
   ]
  },
  {
   "cell_type": "markdown",
   "metadata": {},
   "source": [
    "\n",
    "\n",
    "**음함수형 1계 상미분방정식**\n",
    "\n",
    "-  형태: $F(x,y,y^{\\prime } )=0$\n",
    "-  예시:\n",
    "-  $\\displaystyle y^{\\prime } -5x^2 y^2 -1=0$\n",
    "-  $\\displaystyle 3y^{\\prime } -5y+5=0$\n",
    "\n",
    "예시 1: $y^{\\prime } -5x^2 y^2 -1=0$\n",
    ""
   ]
  },
  {
   "cell_type": "code",
   "execution_count": 3,
   "metadata": {},
   "source": [
    "syms x y(x)\n",
    "% 미분방정식 정의\n",
    "ode3 = diff(y, x) - 5*x^2*y^2 - 1 == 0;\n",
    "\n",
    "% 일반 해 구하기\n",
    "sol3 = dsolve(ode3);\n",
    "disp(sol3);"
   ],
   "outputs": [
    {
     "data": {
      "text/latex": [
       "$\\displaystyle -\\frac{\\sqrt{5}\\,{{\\textrm{Y}}}_{-\\frac{1}{4}} \\left(\\frac{\\sqrt{5}\\,x^2 }{2}\\right)+\\sqrt{5}\\,C_1 \\,{{\\textrm{J}}}_{-\\frac{1}{4}} \\left(\\frac{\\sqrt{5}\\,x^2 }{2}\\right)}{5\\,{\\left(x\\,{{\\textrm{Y}}}_{\\frac{3}{4}} \\left(\\frac{\\sqrt{5}\\,x^2 }{2}\\right)+C_1 \\,x\\,{{\\textrm{J}}}_{\\frac{3}{4}} \\left(\\frac{\\sqrt{5}\\,x^2 }{2}\\right)\\right)}}$"
      ]
     },
     "metadata": {},
     "execution_count":  3,
     "output_type": "execute_result"
    }
   ]
  },
  {
   "cell_type": "markdown",
   "metadata": {},
   "source": [
    "\n",
    "\n",
    "예시 2: $3y^{\\prime } -5y+5=0$\n",
    ""
   ]
  },
  {
   "cell_type": "code",
   "execution_count": 4,
   "metadata": {},
   "source": [
    "syms x y(x)\n",
    "% 미분방정식 정의\n",
    "ode4 = 3*diff(y, x) - 5*y + 5 == 0;\n",
    "\n",
    "% 일반 해 구하기\n",
    "sol4 = dsolve(ode4);\n",
    "disp(sol4);"
   ],
   "outputs": [
    {
     "data": {
      "text/latex": [
       "$\\displaystyle C_1 \\,{\\mathrm{e}}^{\\frac{5\\,x}{3}} +1$"
      ]
     },
     "metadata": {},
     "execution_count":  4,
     "output_type": "execute_result"
    }
   ]
  },
  {
   "cell_type": "markdown",
   "metadata": {},
   "source": [
    "\n",
    "**변수분리형 1계 상미분방정식의 일반형:**\n",
    "\n",
    "\n",
    "$$g(y)y^{\\prime } =f(x)$$\n",
    "\n",
    "이 방정식은 x와 y가 각각 분리될 수 있는 형태입니다.\n",
    "\n",
    "\n",
    "y′=−yx\n",
    ""
   ]
  },
  {
   "cell_type": "code",
   "execution_count": 5,
   "metadata": {},
   "source": [
    "syms x y(x)\n",
    "% 미분방정식 정의\n",
    "ode1 = diff(y, x) == -y*x;\n",
    "\n",
    "% 일반 해 구하기\n",
    "sol1 = dsolve(ode1);\n",
    "disp(sol1);"
   ],
   "outputs": [
    {
     "data": {
      "text/latex": [
       "$\\displaystyle C_1 \\,{\\mathrm{e}}^{-\\frac{x^2 }{2}} $"
      ]
     },
     "metadata": {},
     "execution_count":  5,
     "output_type": "execute_result"
    }
   ]
  },
  {
   "cell_type": "markdown",
   "metadata": {},
   "source": [
    "\n",
    "y′sin(x)−ycos(x)=0\n",
    ""
   ]
  },
  {
   "cell_type": "code",
   "execution_count": 6,
   "metadata": {},
   "source": [
    "syms x y(x)\n",
    "% 미분방정식 정의\n",
    "ode2 = diff(y, x)*sin(x) - y*cos(x) == 0;\n",
    "\n",
    "% 일반 해 구하기\n",
    "sol2 = dsolve(ode2);\n",
    "disp(sol2);"
   ],
   "outputs": [
    {
     "data": {
      "text/latex": [
       "$\\displaystyle C_1 \\,\\sin \\left(x\\right)$"
      ]
     },
     "metadata": {},
     "execution_count":  6,
     "output_type": "execute_result"
    }
   ]
  },
  {
   "cell_type": "markdown",
   "metadata": {},
   "source": [
    "\n",
    "**변수분리형 미분방정식의 해법**\n",
    "\n",
    "\n",
    "$$\\int g(y)dy=\\int f(x)dx+c$$\n",
    "\n",
    "이는 변수 y와 x를 각각 분리하여 적분하는 방식입니다.\n",
    "\n",
    "\n",
    "**예시 문제**\n",
    "\n",
    "\n",
    "주어진 미분방정식은 다음과 같습니다:\n",
    "\n",
    "\n",
    "$$y^{\\prime } -\\frac{(t+1)}{y}=0,~~y(0)=1$$"
   ]
  },
  {
   "cell_type": "code",
   "execution_count": 7,
   "metadata": {},
   "source": [
    "syms y(t)\n",
    "% 미분방정식 정의\n",
    "ode = diff(y, t) == (t + 1) / y;\n",
    "\n",
    "% 초기 조건 정의\n",
    "cond = y(0) == 1;\n",
    "\n",
    "% 미분방정식 풀기\n",
    "sol = dsolve(ode, cond);\n",
    "disp(sol);"
   ],
   "outputs": [
    {
     "data": {
      "text/latex": [
       "$\\displaystyle \\sqrt{t^2 +2\\,t+1}$"
      ]
     },
     "metadata": {},
     "execution_count":  7,
     "output_type": "execute_result"
    }
   ]
  },
  {
   "cell_type": "markdown",
   "metadata": {},
   "source": [
    "\n",
    "\n",
    "**1. 뉴턴의 냉각 법칙**\n",
    "\n",
    "-  물체의 온도가 시간에 따라 변하는 속도는 물체의 온도와 주변 매질의 온도 차이에 비례한다는 법칙입니다.\n",
    "-  수식 형태: $\\frac{dT}{dt}=k(T-T_{ext} )$ 여기서 k는 시간에 대한 비례 상수로, 단위는 $s^{-1}$ 입니다.\n",
    "\n",
    " **2.** **자유낙하 계수와 차수**\n",
    "\n",
    "-  공기 저항을 무시한 상태에서 질량 m인 공이 자유낙하할 때, 공의 속도 v를 시간 t에 대해 나타내는 문제입니다.\n",
    "-  중력 가속도만을 고려한 자유낙하 속도는 시간에 비례하여 증가합니다. 즉, 속도 v는 t와 선형 관계를 가지며, 일반적으로: $v=gt$ 여기서 g는 중력 가속도입니다.\n",
    "\n",
    "1. 뉴턴의 냉각 법칙\n",
    ""
   ]
  },
  {
   "cell_type": "code",
   "execution_count": 8,
   "metadata": {},
   "source": [
    "syms T(t) T_ext k\n",
    "% 미분방정식 정의\n",
    "ode1 = diff(T, t) == k*(T - T_ext);\n",
    "\n",
    "% 일반 해 구하기\n",
    "sol1 = dsolve(ode1);\n",
    "disp(sol1);"
   ],
   "outputs": [
    {
     "data": {
      "text/latex": [
       "$\\displaystyle T_{\\textrm{ext}} +C_1 \\,{\\mathrm{e}}^{k\\,t} $"
      ]
     },
     "metadata": {},
     "execution_count":  8,
     "output_type": "execute_result"
    }
   ]
  },
  {
   "cell_type": "markdown",
   "metadata": {},
   "source": [
    "\n",
    "2. 자유낙하 속도 방정식\n",
    ""
   ]
  },
  {
   "cell_type": "code",
   "execution_count": 9,
   "metadata": {},
   "source": [
    "syms v(t) g\n",
    "% 자유낙하 속도 방정식\n",
    "v_eqn = diff(v, t) == g;\n",
    "\n",
    "% 일반 해 구하기\n",
    "sol2 = dsolve(v_eqn);\n",
    "disp(sol2);"
   ],
   "outputs": [
    {
     "data": {
      "text/latex": [
       "$\\displaystyle C_1 +g\\,t$"
      ]
     },
     "metadata": {},
     "execution_count":  9,
     "output_type": "execute_result"
    }
   ]
  },
  {
   "cell_type": "markdown",
   "metadata": {},
   "source": [
    "\n",
    "C1 은 초기 속도인 v0임을 알수 있다.\n",
    "\n",
    "\n",
    "**3. 옴의 법칙**\n",
    "\n",
    "\n",
    "저항이 R인 저항기에 전압 E를 인가할 때, 저항기를 통해 흐르는 전류 I를 시간 t에 대해 나타내는 문제입니다.\n",
    "\n",
    "\n",
    "옴의 법칙은 다음과 같이 표현됩니다: $I(t)=\\frac{E}{R}$ ​\n",
    "\n",
    "\n",
    "여기서 I(t)는 시간 t에 따른 전류, E는 전압, R은 저항입니다.\n",
    ""
   ]
  },
  {
   "cell_type": "code",
   "execution_count": 10,
   "metadata": {},
   "source": [
    "syms I(t) E R Q0\n",
    "% 옴의 법칙 정의\n",
    "I_eqn = I(t) == (E / R)*t + Q0;\n",
    "\n",
    "% 식 출력\n",
    "disp(I_eqn);"
   ],
   "outputs": [
    {
     "data": {
      "text/latex": [
       "$\\displaystyle \\textrm{I}\\left(t\\right)=Q_0 +\\frac{\\textrm{E}\\,t}{R}$"
      ]
     },
     "metadata": {},
     "execution_count":  10,
     "output_type": "execute_result"
    }
   ]
  },
  {
   "cell_type": "markdown",
   "metadata": {},
   "source": [
    "\n",
    "Q0은 초기 전하량이다.\n",
    "\n",
    "\n",
    "**문제:**\n",
    "\n",
    "\n",
    "주위의 온도가 20℃인 환경에서 60℃의 커피잔을 놔두었더니, 5분 후 커피의 온도가 40℃가 되었다. 10분 후 커피의 온도는 얼마인가?\n",
    ""
   ]
  },
  {
   "cell_type": "code",
   "execution_count": 11,
   "metadata": {},
   "source": [
    "% 주어진 값 설정\n",
    "T_ext = 20;   % 주변 온도 (20도)\n",
    "T0 = 60;      % 초기 커피 온도 (60도)\n",
    "T_5 = 40;     % 5분 후 커피 온도 (40도)\n",
    "time_span_5 = [0 5];  % 시간 범위 (0분에서 5분까지)\n",
    "\n",
    "% 뉴턴의 냉각 법칙 미분방정식 정의\n",
    "cooling_law = @(t, T, k) -k*(T - T_ext);\n",
    "\n",
    "% 냉각 상수 k 추정하기 위한 함수\n",
    "estimate_k = @(k) ode45(@(t, T) cooling_law(t, T, k), time_span_5, T0);\n",
    "\n",
    "% 수치적 추정 함수로 k 계산\n",
    "[~, T_est] = estimate_k(0.1);  % k 값을 임의로 설정\n",
    "T_final_5 = T_est(end);\n",
    "\n",
    "% k 값을 조정해 5분 후 온도가 40도에 근접하도록 함\n",
    "options = optimset('Display', 'off');  % 출력 없이 최적화\n",
    "k = fminsearch(@(k) abs(T_final_5 - T_5), 0.1);  % 최적화 수행\n",
    "\n",
    "% 최적화된 k 값 출력\n",
    "disp(['최적화된 k 값: ', num2str(k)]);"
   ],
   "outputs": [
    {
     "data": {
      "text/plain": [
       "최적화된 k 값: 0.1"
      ]
     },
     "metadata": {},
     "execution_count":  11,
     "output_type": "execute_result"
    }
   ]
  },
  {
   "cell_type": "code",
   "execution_count": 12,
   "metadata": {},
   "source": [
    "\n",
    "% 최적화된 k 값으로 10분 후의 온도 계산\n",
    "time_span_10 = [0 10];  % 0분에서 10분까지 시간 범위\n",
    "[t, T] = ode45(@(t, T) cooling_law(t, T, k), time_span_10, T0);\n",
    "\n",
    "% 10분 후 커피의 온도 출력\n",
    "T_10 = T(end);\n",
    "disp(['10분 후 커피의 온도는 ', num2str(T_10), '도입니다.']);"
   ],
   "outputs": [
    {
     "data": {
      "text/plain": [
       "10분 후 커피의 온도는 34.7152도입니다."
      ]
     },
     "metadata": {},
     "execution_count":  12,
     "output_type": "execute_result"
    }
   ]
  },
  {
   "cell_type": "markdown",
   "metadata": {},
   "source": [
    "\n",
    "\n",
    "-  <samp>integral</samp> 함수 대신 <samp>ode45</samp>를 사용하여 직접 미분방정식을 풀고, 최적화(<samp>fminsearch</samp>)로 냉각 상수 k를 찾습니다.\n",
    "-  <samp>fminsearch</samp>를 사용하여 k 값을 추정하며, 이를 통해 5분 후 온도 조건에 맞는 냉각 상수를 계산합니다.\n",
    "-  계산된 k 값을 사용하여 10분 후 커피의 온도를 계산합니다.\n",
    "-  k 값을 구한 방식은 최적화 함수인 <samp>fminsearch</samp>를 사용하여, kkk 값을 조정함으로써 5분 후의 커피 온도가 주어진 값(40도)에 가장 가깝게 맞춰지는 k를 찾는 방법\n",
    "\n",
    " **\\-** **뉴턴의 냉각 법칙을 수식으로 풀기**\n",
    "\n",
    "\n",
    "뉴턴의 냉각 법칙은 다음과 같이 주어집니다:\n",
    "\n",
    "\n",
    "$$\\frac{dT}{dt}=-k(T-T_{ext} )$$\n",
    "\n",
    "이 방정식을 풀면 일반 해는 다음과 같습니다:\n",
    "\n",
    "\n",
    "$$T(t)=T_{ext} +(T_0 -T_{ext} )e^{-kt}$$\n",
    "\n",
    "여기서:\n",
    "\n",
    "-  $T_0$ 는 초기 온도 (60도),\n",
    "-  $T_{ext}$ ​는 주변 온도 (20도),\n",
    "-  k는 냉각 상수입니다.\n",
    "\n",
    "5분 후의 온도 $T(5)=40^{\\circ } C$ 를 이용해 k를 구할 수 있습니다: $40=20+(60-20)e^{-5k}$\n",
    ""
   ]
  },
  {
   "cell_type": "code",
   "execution_count": 13,
   "metadata": {},
   "source": [
    "% 주어진 값 설정\n",
    "T_ext = 20;   % 주변 온도 20도\n",
    "T0 = 60;      % 초기 커피 온도 60도\n",
    "T_5 = 40;     % 5분 후 커피 온도 40도\n",
    "t_5 = 5;      % 5분\n",
    "\n",
    "% 방정식 풀기: T(t) = T_ext + (T0 - T_ext) * exp(-k*t)\n",
    "% 5분 후 온도를 이용해 k 값을 구하는 방정식\n",
    "syms k\n",
    "eqn = T_5 == T_ext + (T0 - T_ext) * exp(-k * t_5);\n",
    "\n",
    "% k 값 계산\n",
    "k_solution = solve(eqn, k);\n",
    "disp(['계산된 k 값: ', char(k_solution)]);"
   ],
   "outputs": [
    {
     "data": {
      "text/plain": [
       "계산된 k 값: log(2)/5"
      ]
     },
     "metadata": {},
     "execution_count":  13,
     "output_type": "execute_result"
    }
   ]
  },
  {
   "cell_type": "code",
   "execution_count": 14,
   "metadata": {},
   "source": [
    "\n",
    "% 최적의 k 값을 사용하여 10분 후 온도 계산\n",
    "t_10 = 10;  % 10분\n",
    "T_10 = T_ext + (T0 - T_ext) * exp(-k_solution * t_10);\n",
    "disp(['10분 후 커피의 온도는 ', num2str(double(T_10)), '도입니다.']);"
   ],
   "outputs": [
    {
     "data": {
      "text/plain": [
       "10분 후 커피의 온도는 30도입니다."
      ]
     },
     "metadata": {},
     "execution_count":  14,
     "output_type": "execute_result"
    }
   ]
  },
  {
   "cell_type": "markdown",
   "metadata": {},
   "source": [
    "\n",
    "**<samp>fminsearch 방식과 정확한 수식의 차이</samp>**\n",
    ""
   ]
  },
  {
   "cell_type": "code",
   "execution_count": 15,
   "metadata": {},
   "source": [
    "% 실제 k 값\n",
    "k_exact = log(2) / 5;\n",
    "\n",
    "% 근사 k 값\n",
    "k_approx = 0.1;\n",
    "\n",
    "% 두 값의 차이 계산\n",
    "difference = abs(k_exact - k_approx);\n",
    "\n",
    "% 결과 출력\n",
    "disp(['정확한 k 값: ', num2str(k_exact)]);"
   ],
   "outputs": [
    {
     "data": {
      "text/plain": [
       "정확한 k 값: 0.13863"
      ]
     },
     "metadata": {},
     "execution_count":  15,
     "output_type": "execute_result"
    }
   ]
  },
  {
   "cell_type": "code",
   "execution_count": 16,
   "metadata": {},
   "source": [
    "disp(['근사한 k 값: ', num2str(k_approx)]);"
   ],
   "outputs": [
    {
     "data": {
      "text/plain": [
       "근사한 k 값: 0.1"
      ]
     },
     "metadata": {},
     "execution_count":  16,
     "output_type": "execute_result"
    }
   ]
  },
  {
   "cell_type": "code",
   "execution_count": 17,
   "metadata": {},
   "source": [
    "disp(['두 값의 차이: ', num2str(difference)]);"
   ],
   "outputs": [
    {
     "data": {
      "text/plain": [
       "두 값의 차이: 0.038629"
      ]
     },
     "metadata": {},
     "execution_count":  17,
     "output_type": "execute_result"
    }
   ]
  },
  {
   "cell_type": "markdown",
   "metadata": {},
   "source": [
    "\n",
    "\n",
    "\n",
    "!!!EndOutputRegion!!!"
   ]
  }
 ],
 "metadata": {
  "kernelspec": {
   "display_name": "MATLAB (matlabkernel)",
   "language": "matlab",
   "name": "matlab"
  },
  "language_info": {
   "file_extension": ".m",
   "mimetype": "text/matlab",
   "name": "matlab",
   "nbconvert_exporter": "matlab",
   "pygments_lexer": "matlab",
   "version": "24.1.0.2689473"
  }
 },
 "nbformat": 4,
 "nbformat_minor": 4
}