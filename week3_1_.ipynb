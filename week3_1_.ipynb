{
 "cells": [
  {
   "cell_type": "markdown",
   "metadata": {},
   "source": [
    "\n",
    "\n",
    "**완전 상미분방정식인지 확인하는 방법:**\n",
    "\n",
    "1.  미분방정식이 $M(x,y)\\,dx+N(x,y)\\,dy=0$ 의 형태로 주어졌을 때, $M(x,y)$ 와 $N(x,y)$ 를 각각 $x$ 와 $y$ 에 대해 편미분합니다.\n",
    "2. 완전 상미분방정식의 조건은 $\\frac{\\partial M}{\\partial y}=\\frac{\\partial N}{\\partial x}$ �이므로, 이 조건을 만족하는지 확인합니다."
   ]
  },
  {
   "cell_type": "code",
   "execution_count": 1,
   "metadata": {},
   "source": [
    "% MATLAB 코드: 완전 상미분방정식 확인\n",
    "\n",
    "% 심볼릭 변수 정의\n",
    "syms x y\n",
    "\n",
    "% M(x, y)와 N(x, y) 정의\n",
    "M = -y;\n",
    "N = x;\n",
    "\n",
    "% M을 y에 대해 편미분\n",
    "dM_dy = diff(M, y);\n",
    "\n",
    "% N을 x에 대해 편미분\n",
    "dN_dx = diff(N, x);\n",
    "\n",
    "% 편미분 비교\n",
    "if simplify(dM_dy - dN_dx) == 0\n",
    "    disp('이 방정식은 완전 상미분방정식입니다.');\n",
    "else\n",
    "    disp('이 방정식은 완전 상미분방정식이 아닙니다.');\n",
    "end"
   ],
   "outputs": [
    {
     "data": {
      "text/plain": [
       "이 방정식은 완전 상미분방정식이 아닙니다."
      ]
     },
     "metadata": {},
     "execution_count":  1,
     "output_type": "execute_result"
    }
   ]
  },
  {
   "cell_type": "markdown",
   "metadata": {},
   "source": [
    "\n",
    "\n",
    "\n",
    "**문제1**\n",
    "\n",
    "\n",
    "**MATLAB에서 적분인자 찾기**\n",
    "\n",
    "\n",
    "**예제 미분방정식**\n",
    "\n",
    "\n",
    "다음과 같은 미분방정식이 있다고 가정합니다:\n",
    "\n",
    "\n",
    "$$M(x,y)\\,dx+N(x,y)\\,dy=0$$\n",
    "\n",
    "예를 들어:\n",
    "\n",
    "\n",
    "$$(2xy+y^2 )\\,dx+(x^2 +2xy)\\,dy=0$$\n",
    "\n",
    "**MATLAB 코드를 통한 적분인자 찾기**\n",
    "\n",
    "1.  **심볼릭 변수 정의**: 먼저 $x$ 와 $y$ 를 심볼릭 변수로 정의합니다.\n",
    "2. **적분인자를 찾는 과정**: $M$ 과 $N$ 을 정의하고, 적분인자를 찾는 데 필요한 편미분을 계산합니다.\n",
    "3. **조건식 설정**: 적분인자가 $x$ 나 $y$ 에만 의존하는 경우를 가정하여 조건식을 설정하고 풀이합니다."
   ]
  },
  {
   "cell_type": "code",
   "execution_count": 2,
   "metadata": {},
   "source": [
    "% 심볼릭 변수 정의\n",
    "syms x y mu(x) mu_y(y)\n",
    "\n",
    "% 주어진 M(x, y)와 N(x, y)\n",
    "M = -y;\n",
    "N = x;\n",
    "\n",
    "% 1. 적분인자가 x의 함수일 때\n",
    "% 적분인자 mu(x)와 연관된 편미분 계산\n",
    "dM_dy = diff(M, y);\n",
    "dN_dx = diff(N, x);\n",
    "\n",
    "% 적분인자 찾기\n",
    "% d(mu*M)/dy - d(mu*N)/dx = 0 이 되는 mu(x)를 찾음\n",
    "mu_eq_x = diff(mu(x) * M, y) - diff(mu(x) * N, x);\n",
    "\n",
    "% mu'(x) 찾기\n",
    "mu_prime_x = simplify(mu_eq_x / M);\n",
    "\n",
    "% 적분인자 mu(x) 계산\n",
    "mu_x_sol = dsolve(diff(mu(x), x) == mu_prime_x);\n",
    "\n",
    "disp('적분인자 mu(x):');"
   ],
   "outputs": [
    {
     "data": {
      "text/plain": [
       "적분인자 mu(x):"
      ]
     },
     "metadata": {},
     "execution_count":  2,
     "output_type": "execute_result"
    }
   ]
  },
  {
   "cell_type": "code",
   "execution_count": 3,
   "metadata": {},
   "source": [
    "disp(mu_x_sol);"
   ],
   "outputs": [
    {
     "data": {
      "text/latex": [
       "$\\displaystyle \\frac{C_1 }{{{\\left(x-y\\right)}}^2 }$"
      ]
     },
     "metadata": {},
     "execution_count":  3,
     "output_type": "execute_result"
    }
   ]
  },
  {
   "cell_type": "code",
   "execution_count": 4,
   "metadata": {},
   "source": [
    "\n",
    "% 2. 적분인자가 y의 함수일 때\n",
    "% d(mu*N)/dx - d(mu*M)/dy = 0 이 되는 mu(y)를 찾음\n",
    "mu_eq_y = diff(mu_y(y) * N, x) - diff(mu_y(y) * M, y);\n",
    "\n",
    "% mu'(y) 찾기\n",
    "mu_prime_y = simplify(mu_eq_y / N);\n",
    "\n",
    "% 적분인자 mu(y) 계산\n",
    "mu_y_sol = dsolve(diff(mu_y(y), y) == mu_prime_y);\n",
    "\n",
    "disp('적분인자 mu(y):');"
   ],
   "outputs": [
    {
     "data": {
      "text/plain": [
       "적분인자 mu(y):"
      ]
     },
     "metadata": {},
     "execution_count":  4,
     "output_type": "execute_result"
    }
   ]
  },
  {
   "cell_type": "code",
   "execution_count": 5,
   "metadata": {},
   "source": [
    "disp(mu_y_sol);"
   ],
   "outputs": [
    {
     "data": {
      "text/latex": [
       "$\\displaystyle \\frac{C_1 }{{{\\left(x-y\\right)}}^2 }$"
      ]
     },
     "metadata": {},
     "execution_count":  5,
     "output_type": "execute_result"
    }
   ]
  },
  {
   "cell_type": "markdown",
   "metadata": {},
   "source": [
    "\n",
    "**코드 설명**\n",
    "\n",
    "1.  **심볼릭 변수 정의**: <samp>syms</samp>를 사용하여 $x$ 와 $y$ 를 심볼릭 변수로 정의합니다.\n",
    "2. **적분인자 가정**: 적분인자를 $\\mu (x)$ 또는 $\\mu (y)$ 로 가정합니다.\n",
    "3. **편미분 계산**: 적분인자를 곱한 후 편미분을 계산하고, 이를 통해 미분방정식이 완전 상미분방정식이 되도록 하는 조건을 설정합니다.\n",
    "4. **적분인자 계산**: <samp>dsolve</samp>를 사용하여 미분방정식을 풀고, 적분인자를 계산합니다.\n",
    "\n",
    "우리의 실습에서는 적분인자는 $\\frac{1}{x^2 }$ 으로 사전에 주어졌었지만, matlab 계산결과 적분인자는 $\\frac{C_1 }{{\\left(x-y\\right)}^2 }$ 으로 도출되었다. 완전 상미분을 증명하기 때문에 C1은 불필요하며 1로 가정하면되고, 적분인자는 여러개가 나올수 있기 때문에 혹시나 잘못계산한 것인지 오해하지 않아도 된다.\n",
    "\n",
    "\n",
    "아래는 확인 코드이다.\n",
    ""
   ]
  },
  {
   "cell_type": "code",
   "execution_count": 6,
   "metadata": {},
   "source": [
    "% MATLAB 코드: 완전 상미분방정식 확인\n",
    "\n",
    "% 심볼릭 변수 정의\n",
    "syms x y\n",
    "\n",
    "% M(x, y)와 N(x, y) 정의\n",
    "M = -y/(x-y)^2;\n",
    "N = x/(x-y)^2;\n",
    "\n",
    "% M을 y에 대해 편미분\n",
    "dM_dy = diff(M, y);\n",
    "\n",
    "% N을 x에 대해 편미분\n",
    "dN_dx = diff(N, x);\n",
    "\n",
    "% 편미분 비교\n",
    "if simplify(dM_dy - dN_dx) == 0\n",
    "    disp('이 방정식은 완전 상미분방정식입니다.');\n",
    "else\n",
    "    disp('이 방정식은 완전 상미분방정식이 아닙니다.');\n",
    "end"
   ],
   "outputs": [
    {
     "data": {
      "text/plain": [
       "이 방정식은 완전 상미분방정식입니다."
      ]
     },
     "metadata": {},
     "execution_count":  6,
     "output_type": "execute_result"
    }
   ]
  },
  {
   "cell_type": "markdown",
   "metadata": {},
   "source": [
    "\n",
    "다음은 $\\textrm{xydx}+\\left(x^2 +2y^2 \\right)\\textrm{dy}=0\\;$ 에대한 적분인자를 구해보자\n",
    "\n",
    "\n",
    "1. 완전 상미분 방정식인지 확인하기\n",
    ""
   ]
  },
  {
   "cell_type": "code",
   "execution_count": 7,
   "metadata": {},
   "source": [
    "% MATLAB 코드: 완전 상미분방정식 확인\n",
    "\n",
    "% 심볼릭 변수 정의\n",
    "syms x y\n",
    "\n",
    "% M(x, y)와 N(x, y) 정의\n",
    "M = x*y;\n",
    "N = x^2 + 2*y^2;\n",
    "\n",
    "% M을 y에 대해 편미분\n",
    "dM_dy = diff(M, y);\n",
    "\n",
    "% N을 x에 대해 편미분\n",
    "dN_dx = diff(N, x);\n",
    "\n",
    "% 편미분 비교\n",
    "if simplify(dM_dy - dN_dx) == 0\n",
    "    disp('이 방정식은 완전 상미분방정식입니다.');\n",
    "else\n",
    "    disp('이 방정식은 완전 상미분방정식이 아닙니다.');\n",
    "end"
   ],
   "outputs": [
    {
     "data": {
      "text/plain": [
       "이 방정식은 완전 상미분방정식이 아닙니다."
      ]
     },
     "metadata": {},
     "execution_count":  7,
     "output_type": "execute_result"
    }
   ]
  },
  {
   "cell_type": "markdown",
   "metadata": {},
   "source": [
    "\n",
    "2. 적분인자 찾기\n",
    ""
   ]
  },
  {
   "cell_type": "code",
   "execution_count": 8,
   "metadata": {},
   "source": [
    "% 심볼릭 변수 정의\n",
    "syms x y mu(x) mu_y(y)\n",
    "\n",
    "% 주어진 M(x, y)와 N(x, y)\n",
    "M = x*y;\n",
    "N = x^2 + 2*y^2;\n",
    "\n",
    "% 1. 적분인자가 x의 함수일 때\n",
    "% 적분인자 mu(x)와 연관된 편미분 계산\n",
    "dM_dy = diff(M, y);\n",
    "dN_dx = diff(N, x);\n",
    "\n",
    "% 적분인자 찾기\n",
    "% d(mu*M)/dy - d(mu*N)/dx = 0 이 되는 mu(x)를 찾음\n",
    "mu_eq_x = diff(mu(x) * M, y) - diff(mu(x) * N, x);\n",
    "\n",
    "% mu'(x) 찾기\n",
    "mu_prime_x = simplify(mu_eq_x / (M * diff(mu(x), x)));\n",
    "\n",
    "try\n",
    "    % 적분인자 mu(x) 계산\n",
    "    mu_x_sol = dsolve(diff(mu(x), x) == mu_prime_x, mu(0) == 1);\n",
    "    disp('적분인자 mu(x):');\n",
    "    disp(mu_x_sol);\n",
    "\n",
    "    % 적분인자를 곱한 후 새로운 M과 N\n",
    "    M_new_x = mu_x_sol * M;\n",
    "    N_new_x = mu_x_sol * N;\n",
    "\n",
    "    % 편미분 계산\n",
    "    dM_new_dy_x = diff(M_new_x, y);\n",
    "    dN_new_dx_x = diff(N_new_x, x);\n",
    "\n",
    "    % 완전 상미분방정식 확인\n",
    "    is_exact_x = simplify(dM_new_dy_x - dN_new_dx_x);\n",
    "    if is_exact_x == 0\n",
    "        disp('mu(x)가 완전 상미분방정식을 만듭니다.');\n",
    "    else\n",
    "        disp('mu(x)가 완전 상미분방정식을 만들지 않습니다.');\n",
    "    end\n",
    "catch\n",
    "    disp('mu(x)에 대한 기호 해를 구할 수 없습니다.');\n",
    "end"
   ],
   "outputs": [
    {
     "data": {
      "text/plain": [
       "경고: 기호 해를 구할 수 없습니다.\n",
       "적분인자 mu(x):\n",
       "mu(x)가 완전 상미분방정식을 만들지 않습니다."
      ]
     },
     "metadata": {},
     "execution_count":  8,
     "output_type": "execute_result"
    }
   ]
  },
  {
   "cell_type": "code",
   "execution_count": 9,
   "metadata": {},
   "source": [
    "\n",
    "% 2. 적분인자가 y의 함수일 때\n",
    "% d(mu*N)/dx - d(mu*M)/dy = 0 이 되는 mu(y)를 찾음\n",
    "mu_eq_y = diff(mu_y(y) * N, x) - diff(mu_y(y) * M, y);\n",
    "\n",
    "% mu'(y) 찾기\n",
    "mu_prime_y = simplify(mu_eq_y / (N * diff(mu_y(y), y)));\n",
    "\n",
    "try\n",
    "    % 적분인자 mu(y) 계산\n",
    "    mu_y_sol = dsolve(diff(mu_y(y), y) == mu_prime_y, mu_y(0) == 1);\n",
    "    disp('적분인자 mu(y):');\n",
    "    disp(mu_y_sol);\n",
    "\n",
    "    % 적분인자를 곱한 후 새로운 M과 N\n",
    "    M_new_y = mu_y_sol * M;\n",
    "    N_new_y = mu_y_sol * N;\n",
    "\n",
    "    % 편미분 계산\n",
    "    dM_new_dy_y = diff(M_new_y, y);\n",
    "    dN_new_dx_y = diff(N_new_y, x);\n",
    "\n",
    "    % 완전 상미분방정식 확인\n",
    "    is_exact_y = simplify(dM_new_dy_y - dN_new_dx_y);\n",
    "    if is_exact_y == 0\n",
    "        disp('mu(y)가 완전 상미분방정식을 만듭니다.');\n",
    "    else\n",
    "        disp('mu(y)가 완전 상미분방정식을 만들지 않습니다.');\n",
    "    end\n",
    "catch\n",
    "    disp('mu(y)에 대한 기호 해를 구할 수 없습니다.');\n",
    "end"
   ],
   "outputs": [
    {
     "data": {
      "text/plain": [
       "경고: 기호 해를 구할 수 없습니다.\n",
       "적분인자 mu(y):\n",
       "mu(y)가 완전 상미분방정식을 만들지 않습니다."
      ]
     },
     "metadata": {},
     "execution_count":  9,
     "output_type": "execute_result"
    }
   ]
  },
  {
   "cell_type": "markdown",
   "metadata": {},
   "source": [
    "\n",
    "\n",
    "\n",
    "위의 코드처럼 x 혹은 y만의 함수로 가정하고 적분인자를 구하는 코드를 사용하였지만 적분인자를 찾는것에 실패하였습니다.\n",
    "\n",
    "\n",
    "여러가지 원인이 있을 수 있지만 적분인자가 f(x,y) 로 이루어진 형태이기 때문일 수 있습니다.\n",
    "\n",
    "\n",
    "아래는 해석적 방법을 사용하였습니다.\n",
    ""
   ]
  },
  {
   "cell_type": "code",
   "execution_count": 10,
   "metadata": {},
   "source": [
    "% 심볼릭 변수 정의\n",
    "syms x y mu(x, y)\n",
    "\n",
    "% 주어진 M(x, y)와 N(x, y)\n",
    "M = x * y;\n",
    "N = x^2 + 2 * y^2;\n",
    "\n",
    "% 편미분 계산\n",
    "dM_dy = diff(M, y);\n",
    "dN_dx = diff(N, x);\n",
    "\n",
    "% 미분방정식이 완전 상미분방정식인지 확인\n",
    "is_exact_original = simplify(dM_dy - dN_dx);\n",
    "disp('원래 방정식이 완전 상미분방정식인지 확인:');"
   ],
   "outputs": [
    {
     "data": {
      "text/plain": [
       "원래 방정식이 완전 상미분방정식인지 확인:"
      ]
     },
     "metadata": {},
     "execution_count":  10,
     "output_type": "execute_result"
    }
   ]
  },
  {
   "cell_type": "code",
   "execution_count": 11,
   "metadata": {},
   "source": [
    "disp(is_exact_original);"
   ],
   "outputs": [
    {
     "data": {
      "text/latex": [
       "$\\displaystyle -x$"
      ]
     },
     "metadata": {},
     "execution_count":  11,
     "output_type": "execute_result"
    }
   ]
  },
  {
   "cell_type": "code",
   "execution_count": 12,
   "metadata": {},
   "source": [
    "\n",
    "if is_exact_original == 0\n",
    "    disp('주어진 방정식은 이미 완전 상미분방정식입니다.');\n",
    "else\n",
    "    disp('주어진 방정식은 완전 상미분방정식이 아닙니다.');\n",
    "    % 적분인자 mu(x, y) 찾기\n",
    "    % d(mu*M)/dy - d(mu*N)/dx = 0 이 되는 mu(x, y) 찾음\n",
    "    mu_eq = diff(mu * M, y) - diff(mu * N, x);\n",
    "\n",
    "    % 편미분 방정식 풀기\n",
    "    [mu_sol, cond] = solve(mu_eq == 0, mu);\n",
    "\n",
    "    % 일반화된 적분인자 mu(x, y)\n",
    "    disp('일반화된 적분인자 mu(x, y):');\n",
    "    disp(mu_sol);\n",
    "end"
   ],
   "outputs": [
    {
     "data": {
      "text/plain": [
       "주어진 방정식은 완전 상미분방정식이 아닙니다.\n",
       "경고: 양함수 해를 구할 수 없습니다. 취할 수 있는 선택 사항을 보려면 도움말을 참조하십시오.\n",
       "일반화된 적분인자 mu(x, y):"
      ]
     },
     "metadata": {},
     "execution_count":  12,
     "output_type": "execute_result"
    }
   ]
  },
  {
   "cell_type": "markdown",
   "metadata": {},
   "source": [
    "\n",
    "\n",
    "\n",
    "해석적 방법을 사용하였지만 해를 구할 수 없었습니다.\n",
    "\n",
    "\n",
    "**오류의 원인**\n",
    "\n",
    "\n",
    "1. 주어진 미분방정식이 너무 복잡하거나 특이한 형태로 적분인자를 갖고 있어서 심볼릭 툴이 이를 해석하지 못한 경우\n",
    "\n",
    "\n",
    "2. 적분인자가 특정 함수 형태로 존재하지 않거나, 위의 제시된 조건하에서 해를 찾을 수 없는 경우\n",
    "\n",
    "\n",
    "3. 적분인자가 일반화 된 형태로 복잡하게 나타날때\n",
    "\n",
    "\n",
    "따라서 수치적 접근방법을 사용하였습니다.\n",
    "\n",
    "\n",
    "수치적 접근 방법을 사용하기 위해서는 적분인자에 대한 개략적인 수식이 필요합니다. 하지만 해석적 방법에 의한 정보를 얻을 수 없기 때문에 위에서 사용하였던 mu(x), mu(y)를 사용하였습니다.\n",
    ""
   ]
  },
  {
   "cell_type": "code",
   "execution_count": 13,
   "metadata": {},
   "source": [
    "% 심볼릭 변수 정의\n",
    "syms x y C1\n",
    "\n",
    "% 주어진 M(x, y)와 N(x, y)\n",
    "M = x * y;\n",
    "N = x^2 + 2 * y^2;\n",
    "\n",
    "% 주어진 복잡한 적분인자\n",
    "mu = (C1 * exp(((sqrt(sym(7)) * atan((2 * sqrt(sym(7)) * x + sqrt(sym(7)) * y) / (7 * y))) / 7))) / sqrt(x^2 + x * y + 2 * y^2);\n",
    "\n",
    "% 수치적으로 방정식이 완전한지 확인\n",
    "% x, y 값의 범위를 설정합니다.\n",
    "x_vals = linspace(-10, 10, 50);\n",
    "y_vals = linspace(-10, 10, 50);\n",
    "\n",
    "% 결과 저장용\n",
    "is_exact_vals = zeros(length(x_vals), length(y_vals));\n",
    "\n",
    "for i = 1:length(x_vals)\n",
    "    for j = 1:length(y_vals)\n",
    "        x_val = x_vals(i);\n",
    "        y_val = y_vals(j);\n",
    "\n",
    "        % 주어진 적분인자를 수치적으로 평가\n",
    "        mu_val = double(subs(mu, {x, y, C1}, {x_val, y_val, 1})); % C1 = 1로 설정\n",
    "\n",
    "        % 새로운 M과 N을 수치적으로 평가\n",
    "        M_new_val = mu_val * double(subs(M, {x, y}, {x_val, y_val}));\n",
    "        N_new_val = mu_val * double(subs(N, {x, y}, {x_val, y_val}));\n",
    "\n",
    "        % 수치적 편미분 계산 (유한차분법 사용)\n",
    "        dM_new_dy = (mu_val * double(subs(M, {x, y}, {x_val, y_val + 0.01})) - M_new_val) / 0.01;\n",
    "        dN_new_dx = (mu_val * double(subs(N, {x, y}, {x_val + 0.01, y_val})) - N_new_val) / 0.01;\n",
    "\n",
    "        % 방정식이 완전한지 확인\n",
    "        is_exact_vals(i, j) = dM_new_dy - dN_new_dx;\n",
    "    end\n",
    "end\n",
    "\n",
    "% 평균 차이 계산\n",
    "mean_difference = mean(abs(is_exact_vals), 'all');\n",
    "\n",
    "% 결과 출력\n",
    "if mean_difference < 1e-5\n",
    "    disp('주어진 적분인자가 완전 상미분방정식을 만듭니다.');\n",
    "else\n",
    "    disp('주어진 적분인자가 완전 상미분방정식을 만들지 않습니다.');\n",
    "end\n",
    "\n",
    "% mean_difference을 사용하여 적분인자의 정확성을 확인합니다.\n",
    "disp('평균 차이:');\n",
    "disp(mean_difference);"
   ],
   "outputs": []
  },
  {
   "cell_type": "code",
   "execution_count": 14,
   "metadata": {},
   "source": [
    "% 심볼릭 변수 정의\n",
    "syms x y C1\n",
    "\n",
    "% 주어진 M(x, y)와 N(x, y)\n",
    "M = x * y;\n",
    "N = x^2 + 2 * y^2;\n",
    "\n",
    "% 주어진 복잡한 적분인자\n",
    "mu = C1 * exp(((2 * sqrt(sym(7)) * atan(sqrt(sym(7))/7 + (4 * sqrt(sym(7)) * y)/(7 * x))) / 7));\n",
    "\n",
    "% 수치적으로 방정식이 완전한지 확인\n",
    "% x, y 값의 범위를 설정합니다.\n",
    "x_vals = linspace(-10, 10, 50);\n",
    "y_vals = linspace(-10, 10, 50);\n",
    "\n",
    "% 결과 저장용\n",
    "is_exact_vals = zeros(length(x_vals), length(y_vals));\n",
    "\n",
    "for i = 1:length(x_vals)\n",
    "    for j = 1:length(y_vals)\n",
    "        x_val = x_vals(i);\n",
    "        y_val = y_vals(j);\n",
    "\n",
    "        % 주어진 적분인자를 수치적으로 평가\n",
    "        mu_val = double(subs(mu, {x, y, C1}, {x_val, y_val, 1})); % C1 = 1로 설정\n",
    "\n",
    "        % 새로운 M과 N을 수치적으로 평가\n",
    "        M_new_val = mu_val * double(subs(M, {x, y}, {x_val, y_val}));\n",
    "        N_new_val = mu_val * double(subs(N, {x, y}, {x_val, y_val}));\n",
    "\n",
    "        % 수치적 편미분 계산 (유한차분법 사용)\n",
    "        dM_new_dy = (mu_val * double(subs(M, {x, y}, {x_val, y_val + 0.01})) - M_new_val) / 0.01;\n",
    "        dN_new_dx = (mu_val * double(subs(N, {x, y}, {x_val + 0.01, y_val})) - N_new_val) / 0.01;\n",
    "\n",
    "        % 방정식이 완전한지 확인\n",
    "        is_exact_vals(i, j) = dM_new_dy - dN_new_dx;\n",
    "    end\n",
    "end\n",
    "\n",
    "% 평균 차이 계산\n",
    "mean_difference = mean(abs(is_exact_vals), 'all');\n",
    "\n",
    "% 결과 출력\n",
    "if mean_difference < 1e-5\n",
    "    disp('주어진 적분인자가 완전 상미분방정식을 만듭니다.');\n",
    "else\n",
    "    disp('주어진 적분인자가 완전 상미분방정식을 만들지 않습니다.');\n",
    "end\n",
    "\n",
    "% mean_difference을 사용하여 적분인자의 정확성을 확인합니다.\n",
    "disp('평균 차이:');\n",
    "disp(mean_difference);"
   ],
   "outputs": []
  },
  {
   "cell_type": "markdown",
   "metadata": {},
   "source": [
    "\n",
    "위의 방법도 제대로 된 적분인자를 찾을 수 없었습니다.\n",
    "\n",
    "\n",
    "다시 확인한 결과, 맨 처음 시도 했었던 방법은 $\\mu (x)$ 와 $\\mu_y (y)$ 를 각각 심볼릭 함수로 정의하고, 미분 방정식을 세워서 <samp>dsolve</samp>로 기호 해를 찾으려고 했습니다 .\n",
    "\n",
    "\n",
    "이번에는 <samp>dsolve</samp>를 사용하지 않고 $R_x$ 와 $R_y$ 를 직접적으로 적분하여 적분 인자를 구하는 코드로 바꾸었습니다.\n",
    "\n",
    "\n",
    "심볼릭 함수 대신, 적분 인자 $\\mu$ 를 지수 함수 형태로 바로 계산합니다.\n",
    ""
   ]
  },
  {
   "cell_type": "code",
   "execution_count": 15,
   "metadata": {},
   "source": [
    "function mu = findIntegratingFactorModified(P, Q, x, y)\n",
    "    % 우선 x만의 함수로 가정하고 식의 구성 요소를 찾음\n",
    "    R_x = simplify((diff(P, y) - diff(Q, x)) / Q);\n",
    "\n",
    "    % R_x가 x만의 함수인지 확인\n",
    "    if isAlways(diff(R_x, y) == 0)\n",
    "        % 적분 인자 구하기\n",
    "        mu = exp(int(R_x, x));\n",
    "        disp('The integrating factor as a function of x is:');\n",
    "        disp(mu);\n",
    "        return;\n",
    "    else\n",
    "        disp('R_x is not a function of x alone.');\n",
    "    end\n",
    "\n",
    "    % 만약 실패한다면 y만의 함수로 가정\n",
    "    R_y = simplify((diff(Q, x) - diff(P, y)) / P);\n",
    "\n",
    "    % R_y가 y만의 함수인지 확인\n",
    "    if isAlways(diff(R_y, x) == 0)\n",
    "        % 적분 인자 구하기\n",
    "        mu = exp(int(R_y, y));\n",
    "        disp('The integrating factor as a function of y is:');\n",
    "        disp(mu);\n",
    "        return;\n",
    "    else\n",
    "        disp('R_y is not a function of y alone.');\n",
    "    end\n",
    "\n",
    "    % 적분 인자를 찾지 못한 경우\n",
    "    mu = []; % 빈 배열을 반환\n",
    "    disp('No integrating factor found as a function of x or y alone.');\n",
    "end\n",
    "\n",
    "% 예제 입력\n",
    "syms x y;\n",
    "P = x*y;\n",
    "Q = x^2 + 2*y^2;\n",
    "\n",
    "% 적분 인자 찾기\n",
    "mu = findIntegratingFactorModified(P, Q, x, y);"
   ],
   "outputs": [
    {
     "data": {
      "text/plain": [
       "경고: '(4*x*y)/(x^2 + 2*y^2)^2 == 0'을(를) 증명할 수 없습니다.\n",
       "R_x is not a function of x alone.\n",
       "The integrating factor as a function of y is:"
      ]
     },
     "metadata": {},
     "execution_count":  15,
     "output_type": "execute_result"
    },
    {
     "data": {
      "text/latex": [
       "$\\displaystyle y$"
      ]
     },
     "metadata": {},
     "output_type": "display_data"
    }
   ]
  },
  {
   "cell_type": "markdown",
   "metadata": {},
   "source": [
    "\n",
    "적분인자는 F = y 인것으로 나타났습니다.\n",
    "\n",
    "\n",
    "적분인자를 수식에 대입하여 상미분방적식이 되는지 확인하였습니다.\n",
    ""
   ]
  },
  {
   "cell_type": "code",
   "execution_count": 16,
   "metadata": {},
   "source": [
    "syms x y;\n",
    "% 주어진 M(x, y)과 N(x, y)\n",
    "M = x*y;\n",
    "N = x^2 + 2*y^2;\n",
    "\n",
    "% 가정한 적분 인자\n",
    "mu = y;\n",
    "\n",
    "% 새로운 M과 N 정의\n",
    "M_new = mu * M;\n",
    "N_new = mu * N;\n",
    "\n",
    "% 정확 미분 방정식인지 확인\n",
    "exactCheck = diff(M_new, y) == diff(N_new, x);\n",
    "\n",
    "% 결과 출력\n",
    "if simplify(exactCheck)\n",
    "    disp('The equation with the integrating factor is an exact differential equation.');\n",
    "else\n",
    "    disp('The equation with the integrating factor is not an exact differential equation.');\n",
    "end"
   ],
   "outputs": [
    {
     "data": {
      "text/plain": [
       "The equation with the integrating factor is an exact differential equation."
      ]
     },
     "metadata": {},
     "execution_count":  16,
     "output_type": "execute_result"
    }
   ]
  },
  {
   "cell_type": "markdown",
   "metadata": {},
   "source": [
    "\n",
    "**문제2**\n",
    "\n",
    "\n",
    " $y^2 \\,dx+y\\,dy=0$ 에 대한 적분 인자를 찾고 일반해를 구하였습니다.\n",
    ""
   ]
  },
  {
   "cell_type": "code",
   "execution_count": 17,
   "metadata": {},
   "source": [
    "syms x y;\n",
    "% 미분 방정식 정의\n",
    "P = y^2;\n",
    "Q = y;\n",
    "\n",
    "% 적분 인자 R 구하기\n",
    "% R = (1/Q) * (diff(P, y) - diff(Q, x))\n",
    "R = (1/Q) * (diff(P, y) - diff(Q, x));\n",
    "R = simplify(R);\n",
    "\n",
    "% 적분 인자가 x만의 함수인지 확인\n",
    "if isAlways(diff(R, y) == 0)\n",
    "    % 적분 인자 구하기\n",
    "    integratingFactor = exp(int(R, x));\n",
    "    disp('The integrating factor is:');\n",
    "    disp(integratingFactor);\n",
    "\n",
    "    % 새로운 P와 Q 정의\n",
    "    P_new = simplify(integratingFactor * P);\n",
    "    Q_new = simplify(integratingFactor * Q);\n",
    "\n",
    "    % 일반해 구하기\n",
    "    % 완전 미분 방정식 F(x, y) = C에서\n",
    "    % F(x, y) = int(P_new, x) + int(Q_new, y) - int(dF/dy, y)\n",
    "    F_x = int(P_new, x);\n",
    "    dF_dy = diff(F_x, y);\n",
    "    F_y = int(Q_new - dF_dy, y);\n",
    "\n",
    "    % 완전 미분 방정식 일반해\n",
    "    F = F_x + F_y;\n",
    "    disp('The general solution is:');\n",
    "    disp(F);\n",
    "else\n",
    "    disp('The integrating factor is not a function of x alone.');\n",
    "end"
   ],
   "outputs": [
    {
     "data": {
      "text/plain": [
       "The integrating factor is:"
      ]
     },
     "metadata": {},
     "execution_count":  17,
     "output_type": "execute_result"
    },
    {
     "data": {
      "text/latex": [
       "$\\displaystyle {\\mathrm{e}}^{2\\,x} $"
      ]
     },
     "metadata": {},
     "output_type": "display_data"
    },
    {
     "data": {
      "text/plain": [
       "The general solution is:"
      ]
     },
     "metadata": {},
     "output_type": "display_data"
    },
    {
     "data": {
      "text/latex": [
       "$\\displaystyle \\frac{y^2 \\,{\\mathrm{e}}^{2\\,x} }{2}$"
      ]
     },
     "metadata": {},
     "output_type": "display_data"
    }
   ]
  },
  {
   "cell_type": "markdown",
   "metadata": {},
   "source": [
    "\n",
    "적분인자 ${\\mathrm{e}}^{2\\,x}$ 이 맞는지 확인하였습니다.\n",
    ""
   ]
  },
  {
   "cell_type": "code",
   "execution_count": 18,
   "metadata": {},
   "source": [
    "syms x y C;\n",
    "% 주어진 미분 방정식 정의\n",
    "P = y^2;\n",
    "Q = y;\n",
    "\n",
    "% 구해진 적분 인자\n",
    "integratingFactor = exp(2*x);\n",
    "\n",
    "% 새로운 P와 Q 정의 (적분 인자를 곱한 형태)\n",
    "P_new = simplify(integratingFactor * P);\n",
    "Q_new = simplify(integratingFactor * Q);\n",
    "\n",
    "% 1. 완전 미분 방정식인지 확인\n",
    "exactCheck = diff(P_new, y) == diff(Q_new, x);\n",
    "if isAlways(exactCheck)\n",
    "    disp('The equation with the integrating factor is an exact differential equation.');\n",
    "else\n",
    "    disp('The equation with the integrating factor is not an exact differential equation.');\n",
    "end"
   ],
   "outputs": [
    {
     "data": {
      "text/plain": [
       "The equation with the integrating factor is an exact differential equation."
      ]
     },
     "metadata": {},
     "execution_count":  18,
     "output_type": "execute_result"
    }
   ]
  },
  {
   "cell_type": "code",
   "execution_count": 19,
   "metadata": {},
   "source": [
    "\n",
    "% 2. 일반해 구하기\n",
    "% 적분 인자 적용 후 통합하여 해를 구함\n",
    "F_x = int(P_new, x);\n",
    "F_y = int(Q_new - diff(F_x, y), y);\n",
    "F = simplify(F_x + F_y);\n",
    "\n",
    "% 일반해를 C로 표현\n",
    "generalSolution = F == C;\n",
    "disp('The general solution F(x, y) is:');"
   ],
   "outputs": [
    {
     "data": {
      "text/plain": [
       "The general solution F(x, y) is:"
      ]
     },
     "metadata": {},
     "execution_count":  19,
     "output_type": "execute_result"
    }
   ]
  },
  {
   "cell_type": "code",
   "execution_count": 20,
   "metadata": {},
   "source": [
    "disp(generalSolution);"
   ],
   "outputs": [
    {
     "data": {
      "text/latex": [
       "$\\displaystyle \\frac{y^2 \\,{\\mathrm{e}}^{2\\,x} }{2}=C$"
      ]
     },
     "metadata": {},
     "execution_count":  20,
     "output_type": "execute_result"
    }
   ]
  }
    {
     "data": {
      "text/plain": [
       "적분인자를 곱해서 확인한 결과 완전상미분 방정식 임을 확인하였습니다.\n",
       "따라서 올바르게 구한것을 확인하였습니다.\n",
       "경고: '(4*x*y)/(x^2 + 2*y^2)^2 == 0'을(를) 증명할 수 없습니다.\n",
       "The integrating factor as a function of y is:"
      ]
     },
     "metadata": {},
     "execution_count":  20,
     "output_type": "execute_result"
    },
    {
     "data": {
      "text/latex": [
       "$\\displaystyle y$"
      ]
     },
     "metadata": {},
     "output_type": "display_data"
    }
   ]
  },
  {
   "cell_type": "markdown",
   "metadata": {},
   "source": [
    "\n",
    "\n",
    "!!!EndOutputRegion!!!"
   ]
  }
 ],
 "metadata": {
  "kernelspec": {
   "display_name": "MATLAB (matlabkernel)",
   "language": "matlab",
   "name": "matlab"
  },
  "language_info": {
   "file_extension": ".m",
   "mimetype": "text/matlab",
   "name": "matlab",
   "nbconvert_exporter": "matlab",
   "pygments_lexer": "matlab",
   "version": "24.1.0.2689473"
  }
 },
 "nbformat": 4,
 "nbformat_minor": 4
}