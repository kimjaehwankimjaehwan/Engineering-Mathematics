{
 "cells": [
  {
   "cell_type": "markdown",
   "metadata": {},
   "source": [
    "\n",
    "## **1계 비제차 선형 상미분방정식**\n",
    "\n",
    "**1. 1계 비제차 선형 상미분방정식의 형태**\n",
    "\n",
    "-  일반적인 형태: $y^{\\prime } +p(x)y=r(x)$\n",
    "-  여기서 $r(x)\\not= 0$ 일 때, 이 방정식을 비제차 상미분방정식(Nonhomogeneous, 비동차)라고 합니다.\n",
    "\n",
    "**2. 1계 비제차 선형 상미분방정식의 특성**\n",
    "\n",
    "-  $r(x)$ 는 입력으로 작용하며, 이 입력이 응답(또는 출력)인 $y(x)$ 와 그 변화율에 영향을 줍니다.\n",
    "-  입력 $r(x)$ 와 응답 $y(x)$ 사이에는 비례 관계가 존재합니다.\n",
    "\n",
    "이를 이해하기 위해 간단한 예를 들어보겠습니다.\n",
    "\n",
    "\n",
    "**예시**\n",
    "\n",
    "-  미분방정식: $y^{\\prime } +2y=4$\n",
    "-  여기서 $p(x)=2,r(x)=4$ 입니다.\n",
    "-  이 방정식은 비제차 형태이며, $r(x)=4\\not= 0$ 이므로 입력이 출력에 영향을 줍니다.\n",
    "-  이 경우, 일반해는\n",
    "\n",
    "$$y(x)=Ce^{-2x} +2$$\n",
    "\n",
    "-  $C$ 는 상수입니다.\n",
    "## 해법 \\- (일반해)\n",
    "\n",
    "**1. 일반해 유도 과정**\n",
    "\n",
    "-  주어진 방정식: $y^{\\prime } +p(x)y=r(x)$\n",
    "\n",
    "**1) 적분인자 찾기**\n",
    "\n",
    "-  적분인자는 $F(x)=e^{\\int p(x)\\,dx} =e^h$ 입니다.\n",
    "-  여기서 $\\int p(x)\\,dx=h$ 라고 가정하고, $h^{\\prime } =p(x)$ 라고 가정합니다.\n",
    "-  원식을 미분하면 $F^{\\prime } (x)=(e^{\\int p(x)\\,dx} )^{\\prime } =h^{\\prime } e^h$ 이고\n",
    "-  $h^{\\prime } =p(x)$ 이기 때문에 $F^{\\prime } =pe^h$ 입니다.\n",
    "\n",
    "**2) 방정식 정리**\n",
    "\n",
    "-  적분인자를 원래의 식의 양변에 곱해줍니다.\n",
    "-  $Fy^{\\prime } +Fpy=Fr$ 가 됩니다.\n",
    "-  즉, $e^h y^{\\prime } +e^h py=e^h r$ 로 표현됩니다.\n",
    "-  이때, $F^{\\prime } =pe^h$ 이므로 방정식은\n",
    "\n",
    "$$e^h y^{\\prime } +(e^h p)y=e^h r$$\n",
    "\n",
    "$$e^h y^{\\prime } +(e^h )^{\\prime } y=e^h r$$\n",
    "\n",
    "-  미분의 곱셈 공식에 따르면:\n",
    "\n",
    "$$\\frac{d}{dx}(e^h y)=e^h y^{\\prime } +(e^h )^{\\prime } y$$\n",
    "\n",
    "$$(e^h y)^{\\prime } =e^h r$$\n",
    "\n",
    "즉, $(Fy)^{\\prime } =Fr$\n",
    "\n",
    "-  로 정리됩니다.\n",
    "\n",
    "**3) 양변을 적분**\n",
    "\n",
    "-  양변을 적분하면\n",
    "\n",
    "$$e^h y=\\int e^h r\\,dx+c$$\n",
    "\n",
    "여기서 $c$ 는 적분 상수입니다.\n",
    "\n",
    "\n",
    "**4) 해 구하기**\n",
    "\n",
    "-  최종적으로 양변을 $e^h$ 로 나누면\n",
    "\n",
    "$$y(x)=e^{-h} \\left(\\int e^h r\\,dx+c\\right)$$\n",
    "\n",
    "이 됩니다.\n",
    "\n",
    "\n",
    "## 적분인자 유도과정(자세히)\n",
    "\n",
    "**1. 적분인자 방법을 통한 적분인자 구하기**\n",
    "\n",
    "\n",
    "먼저 적분인자 방법을 사용해 보겠습니다.\n",
    "\n",
    "\n",
    "**1) 방정식을 적분인자 형태로 변환**\n",
    "\n",
    "-  주어진 방정식은 다음과 같습니다.\n",
    "\n",
    "$$y^{\\prime } +p(x)y=r(x)$$\n",
    "\n",
    "-  적분인자를 $\\mu (x)$ 라 하겠습니다.\n",
    "-  양변에 적분인자 $\\mu (x)$ 를 곱해줍니다.\n",
    "\n",
    "$$\\mu (x)y^{\\prime } +\\mu (x)p(x)y=\\mu (x)r(x)$$\n",
    "\n",
    "**2) 좌변을 완전 미분 형태로 변환**\n",
    "\n",
    "-  적분인자 $\\mu (x)$ 를 곱한 식의 좌변을 살펴봅시다.\n",
    "\n",
    "$$\\mu (x)y^{\\prime } +\\mu (x)p(x)y$$\n",
    "\n",
    "-  미분의 곱셈 공식에 따르면, 다음이 성립합니다:\n",
    "\n",
    "$$\\frac{d}{dx}(\\mu (x)y)=\\mu (x)y^{\\prime } +\\mu^{\\prime } (x)y$$\n",
    "\n",
    "-  그런데 $\\mu (x)$ 는 적분인자이기 때문에,\n",
    "\n",
    "$$\\mu^{\\prime } (x)=\\mu (x)p(x)$$\n",
    "\n",
    "-  $\\mu (x)$ 를 곱한 식의 좌변이 완전 미분이 되려면,\n",
    "\n",
    "$$\\frac{d}{dx}\\left(\\mu (x)y\\right)=\\mu (x)y^{\\prime } +\\mu (x)p(x)y$$\n",
    "\n",
    "$$\\mu (x)y\\prime +\\mu (x)p(x)y=\\frac{d}{xd}(\\mu (x)y)$$\n",
    "\n",
    "-  따라서, $\\mu (x)$ 가 다음 조건을 만족해야 합니다.\n",
    "\n",
    "$$\\frac{d\\mu (x)}{dx}=\\mu (x)p(x)dx$$\n",
    "\n",
    " **3) 적분인자** $\\mu (x)$ **찾기**\n",
    "\n",
    "-  양변을 $x$ 에 대해 적분하면,\n",
    "\n",
    "$$\\frac{d\\mu (x)}{\\mu (x)}=p(x)\\,dx$$\n",
    "\n",
    "$$\\ln |\\mu (x)|=\\int p(x)\\,dx$$\n",
    "\n",
    "$$\\mu (x)=e^{\\int p(x)\\,dx}$$\n",
    "\n",
    "-  따라서, 적분인자는 $\\mu (x)=e^{\\int p(x)\\,dx}$ 입니다.\n",
    "\n",
    "**2. 변수분리법을 통한 적분인자 구하기**\n",
    "\n",
    "\n",
    "이번에는 변수분리법을 사용하여 적분인자를 구해보겠습니다.\n",
    "\n",
    "\n",
    "**1) 방정식을 변수분리 형태로 변환**\n",
    "\n",
    "-  주어진 방정식은 $y^{\\prime } +p(x)y=r(x)$ 이고, 이를 정리하면 $y^{\\prime } =r(x)-p(x)y$ 형태가 됩니다.\n",
    "-  양변을\n",
    "\n",
    "$$\\frac{dy}{dx}=r(x)-p(x)y$$\n",
    "\n",
    "-  로 표현하면:\n",
    "\n",
    "$$\\frac{dy}{dx}+p(x)y=r(x)$$\n",
    "\n",
    "**2) 변수분리법 적용**\n",
    "\n",
    "-  먼저 $r(x)=0$ 인 동차 방정식을 고려하면, $y^{\\prime } +p(x)y=0$ 즉,\n",
    "\n",
    "$$\\frac{dy}{dx}=-p(x)y$$\n",
    "\n",
    "-  이 식은 변수 분리 형태로 표현됩니다.\n",
    "\n",
    "$$\\frac{dy}{y}=-p(x)\\,dx$$\n",
    "\n",
    "-  양변을 적분하면,\n",
    "\n",
    "$$\\ln |y|=-\\int p(x)\\,dx$$\n",
    "\n",
    "-  따라서,\n",
    "\n",
    "$$y=Ce^{-\\int p(x)\\,dx}$$\n",
    "\n",
    "**3) 적분인자 확인**\n",
    "\n",
    "-  일반적으로 적분인자는 $\\frac{1}{y}=e^{\\int p(x)\\,dx}$ 와 같이 표현됩니다.\n",
    "-  따라서, 이 역시 적분인자 $\\mu (x)=e^{\\int p(x)\\,dx}$ 임을 확인할 수 있습니다.\n",
    "\n",
    "**결론**\n",
    "\n",
    "\n",
    "두 가지 방법을 통해 적분인자를 구한 결과는 동일합니다:\n",
    "\n",
    "\n",
    "$$\\mu (x)=e^{\\int p(x)\\,dx}$$\n",
    "\n",
    "## 1계 비제차 선형 미분방정식의 일반해(결론)\n",
    "\n",
    "**방정식의 형태**\n",
    "\n",
    "\n",
    "주어진 방정식은 다음과 같습니다:\n",
    "\n",
    "\n",
    "$$y^{\\prime } +p(x)y=r(x)$$\n",
    "\n",
    "**일반해 구하기**\n",
    "\n",
    "1.  적분인자 $\\mu (x)=e^{\\int p(x)\\,dx} =e^h$ 를 곱하여 방정식을 완전 미분 형태로 만듭니다.\n",
    "2. 식은 다음과 같이 변환됩니다:\n",
    "\n",
    "$$e^h y^{\\prime } +e^h p(x)y=e^h r(x)$$\n",
    "\n",
    "즉, 좌변은\n",
    "\n",
    "\n",
    "$$(e^h y)^{\\prime } =e^h r(x)$$\n",
    "\n",
    "1.  이 식을 양변에 대해 $x$ 에 대해 적분하면,\n",
    "\n",
    "$$e^h y=\\int e^h r(x)\\,dx+C$$\n",
    "\n",
    "이 됩니다.\n",
    "\n",
    "1.  따라서, $y$ 에 대한 일반해는\n",
    "\n",
    "$$y(x)=e^{-h} \\left(\\int e^h r(x)\\,dx+C\\right)$$\n",
    "\n",
    "로 표현됩니다.\n",
    "\n",
    "\n",
    "**최종 일반해**\n",
    "\n",
    "\n",
    "$$y(x)=e^{-\\int p(x)\\,dx} \\left(\\int e^{\\int p(x)\\,dx} r(x)\\,dx+C\\right)$$\n",
    "## 예제\n",
    "\n",
    "예제 1: $\\frac{dy}{dt}-y=e^t ,~~y(0)=3$\n",
    ""
   ]
  },
  {
   "cell_type": "code",
   "execution_count": 1,
   "metadata": {},
   "source": [
    "syms y(t) C  % y(t)와 상수 C를 기호적으로 정의\n",
    "\n",
    "% 미분 방정식 정의\n",
    "ode1 = diff(y, t) - y == exp(t);\n",
    "\n",
    "% 일반해를 구함\n",
    "general_solution1 = dsolve(ode1);\n",
    "\n",
    "% 초기 조건을 적용하여 특정 해를 구함\n",
    "initial_condition1 = y(0) == 3;\n",
    "particular_solution1 = dsolve(ode1, initial_condition1);\n",
    "\n",
    "% 결과 출력\n",
    "fprintf('일반해 y(t): \\n');"
   ],
   "outputs": [
    {
     "data": {
      "text/plain": [
       "일반해 y(t):"
      ]
     },
     "metadata": {},
     "execution_count":  1,
     "output_type": "execute_result"
    }
   ]
  },
  {
   "cell_type": "code",
   "execution_count": 2,
   "metadata": {},
   "source": [
    "disp(general_solution1);"
   ],
   "outputs": [
    {
     "data": {
      "text/latex": [
       "$\\displaystyle C_1 \\,{\\mathrm{e}}^t +t\\,{\\mathrm{e}}^t $"
      ]
     },
     "metadata": {},
     "execution_count":  2,
     "output_type": "execute_result"
    }
   ]
  },
  {
   "cell_type": "code",
   "execution_count": 3,
   "metadata": {},
   "source": [
    "\n",
    "fprintf('특정해 y(t) (초기 조건 적용): \\n');"
   ],
   "outputs": [
    {
     "data": {
      "text/plain": [
       "특정해 y(t) (초기 조건 적용):"
      ]
     },
     "metadata": {},
     "execution_count":  3,
     "output_type": "execute_result"
    }
   ]
  },
  {
   "cell_type": "code",
   "execution_count": 4,
   "metadata": {},
   "source": [
    "disp(particular_solution1);"
   ],
   "outputs": [
    {
     "data": {
      "text/latex": [
       "$\\displaystyle 3\\,{\\mathrm{e}}^t +t\\,{\\mathrm{e}}^t $"
      ]
     },
     "metadata": {},
     "execution_count":  4,
     "output_type": "execute_result"
    }
   ]
  },
  {
   "cell_type": "markdown",
   "metadata": {},
   "source": [
    "\n",
    "예제 2: $\\frac{dy}{dx}=2x^2 -\\frac{y}{x},~~y(1)=5$\n",
    ""
   ]
  },
  {
   "cell_type": "code",
   "execution_count": 5,
   "metadata": {},
   "source": [
    "syms y(x) C  % y(x)와 상수 C를 기호적으로 정의\n",
    "\n",
    "% 미분 방정식 정의\n",
    "ode2 = diff(y, x) == 2*x^2 - y/x;\n",
    "\n",
    "% 일반해를 구함\n",
    "general_solution2 = dsolve(ode2);\n",
    "\n",
    "% 초기 조건을 적용하여 특정 해를 구함\n",
    "initial_condition2 = y(1) == 5;\n",
    "particular_solution2 = dsolve(ode2, initial_condition2);\n",
    "\n",
    "% 결과 출력\n",
    "fprintf('일반해 y(x): \\n');"
   ],
   "outputs": [
    {
     "data": {
      "text/plain": [
       "일반해 y(x):"
      ]
     },
     "metadata": {},
     "execution_count":  5,
     "output_type": "execute_result"
    }
   ]
  },
  {
   "cell_type": "code",
   "execution_count": 6,
   "metadata": {},
   "source": [
    "disp(general_solution2);"
   ],
   "outputs": [
    {
     "data": {
      "text/latex": [
       "$\\displaystyle \\frac{C_1 }{x}+\\frac{x^3 }{2}$"
      ]
     },
     "metadata": {},
     "execution_count":  6,
     "output_type": "execute_result"
    }
   ]
  },
  {
   "cell_type": "code",
   "execution_count": 7,
   "metadata": {},
   "source": [
    "\n",
    "fprintf('특정해 y(x) (초기 조건 적용): \\n');"
   ],
   "outputs": [
    {
     "data": {
      "text/plain": [
       "특정해 y(x) (초기 조건 적용):"
      ]
     },
     "metadata": {},
     "execution_count":  7,
     "output_type": "execute_result"
    }
   ]
  },
  {
   "cell_type": "code",
   "execution_count": 8,
   "metadata": {},
   "source": [
    "disp(particular_solution2);"
   ],
   "outputs": [
    {
     "data": {
      "text/latex": [
       "$\\displaystyle \\frac{x^4 +9}{2\\,x}$"
      ]
     },
     "metadata": {},
     "execution_count":  8,
     "output_type": "execute_result"
    }
   ]
  },
  {
   "cell_type": "markdown",
   "metadata": {},
   "source": [
    "## 뉴턴의 방정식\n",
    "\n",
    "$$F=m\\frac{\\textrm{dv}}{\\textrm{dt}}$$\n",
    "\n",
    "$$\\frac{\\textrm{dv}}{\\textrm{dt}}=\\frac{F}{m}$$\n",
    "\n",
    "$$v^{\\prime } =\\frac{F}{m}$$\n",
    "\n",
    " $v^{\\prime } +v_0 =\\frac{F}{m}$ 이므로 1계 미분 선형방정식의 형태로 만들수 있다.\n",
    "\n",
    "\n",
    " $v_0 =p\\left(x\\right)$ , $\\frac{F}{m}=r\\left(x\\right)$ 로 놓고 풀면 되지만 p(x)가 0이기 때문에 너무 간단하여 굳이 이렇게 구하는 것보다는 일반적인 방법으로 푸는것이 더 좋다.\n",
    "\n",
    "\n",
    "마찰력 혹은 다른 외력이 들어가면 수식이 더 복잡해져서 이러한 형태로 분석을 하는 것이 좋다.\n",
    "\n",
    "## 문제\n",
    "\n",
    "$$y\\prime -xy=sinx$$\n",
    "\n",
    "\n",
    "**1. 적분인자를 곱하여 방정식을 완전 미분 형태로 만들기**\n",
    "\n",
    "\n",
    "**적분인자 찾기**\n",
    "\n",
    "\n",
    "일반적인 1계 선형 미분방정식의 형태는\n",
    "\n",
    "\n",
    "$$y^{\\prime } +p(x)y=r(x)$$\n",
    "\n",
    "입니다. 따라서, 주어진 방정식을 이 형태에 맞추면\n",
    "\n",
    "\n",
    "$$y^{\\prime } +(-x)y=\\sin x$$\n",
    "\n",
    "여기서 $p(x)=-x$ 이고 $r(x)=\\sin x$ 입니다.\n",
    "\n",
    "\n",
    "적분인자는 다음과 같이 정의됩니다:\n",
    "\n",
    "\n",
    "$$\\mu (x)=e^{\\int p(x)\\,dx} =e^{\\int -x\\,dx}$$\n",
    "\n",
    "**적분 수행**\n",
    "\n",
    "\n",
    " $\\int -x\\,dx=-\\frac{x^2 }{2}$ �\n",
    "\n",
    "\n",
    "따라서 적분인자는\n",
    "\n",
    "\n",
    " $\\mu (x)=e^{-\\frac{x^2 }{2}}$ �\n",
    "\n",
    "\n",
    "주어진 미분방정식의 적분인자는\n",
    "\n",
    "\n",
    " $\\mu (x)=e^{-\\frac{x^2 }{2}}$ �\n",
    "\n",
    "\n",
    "방정식의 양변에 적분인자 $\\mu (x)=e^{-\\frac{x^2 }{2}}$ �를 곱합니다:\n",
    "\n",
    "\n",
    "$$e^{-\\frac{x^2 }{2}} y^{\\prime } -xe^{-\\frac{x^2 }{2}} y=e^{-\\frac{x^2 }{2}} \\sin x$$\n",
    "\n",
    "이때, 좌변은 완전 미분 형태가 됩니다:\n",
    "\n",
    "\n",
    "$$\\frac{d}{dx}\\left(e^{-\\frac{x^2 }{2}} y\\right)=e^{-\\frac{x^2 }{2}} \\sin x$$\n",
    "\n",
    " **2. 양변을** $x$ **에 대해 적분**\n",
    "\n",
    "\n",
    "$$e^{-\\frac{x^2 }{2}} y=\\int e^{-\\frac{x^2 }{2}} \\sin x\\,dx+C$$\n",
    "\n",
    "여기서 $C$ 는 적분 상수입니다.\n",
    "\n",
    "\n",
    "**3. 해의 표현**\n",
    "\n",
    "\n",
    "일반해를 $y$ 에 대해 표현하면:\n",
    "\n",
    "\n",
    "$$y=e^{\\frac{x^2 }{2}} \\left(\\int e^{-\\frac{x^2 }{2}} \\sin x\\,dx+C\\right)$$\n",
    "\n",
    "**결론**\n",
    "\n",
    "\n",
    "주어진 미분방정식의 일반해는 다음과 같습니다:\n",
    "\n",
    "\n",
    "$$y=e^{\\frac{x^2 }{2}} \\left(\\int e^{-\\frac{x^2 }{2}} \\sin x\\,dx+C\\right)$$\n",
    "\n",
    "위의 식은 해석적 해로 직접 풀기는 어렵습니다. 따라서 수치적 접근법으로 근사하여 해를 구하면 다음과 같습니다.\n",
    ""
   ]
  },
  {
   "cell_type": "code",
   "execution_count": 9,
   "metadata": {},
   "source": [
    "% Define the function to be integrated\n",
    "f = @(x) exp(-x.^2 / 2) .* sin(x);\n",
    "\n",
    "% Set the limits of integration (you can change the limits as needed)\n",
    "x_start = 0; % Lower limit of integration\n",
    "x_end = 2;   % Upper limit of integration (example)\n",
    "\n",
    "% Perform the numerical integration using the integral function\n",
    "result = integral(f, x_start, x_end);\n",
    "\n",
    "% Display the result\n",
    "fprintf('Numerical integration result: %.4f\\n', result);"
   ],
   "outputs": [
    {
     "data": {
      "text/plain": [
       "Numerical integration result: 0.6869"
      ]
     },
     "metadata": {},
     "execution_count":  9,
     "output_type": "execute_result"
    }
   ]
  },
  {
   "cell_type": "markdown",
   "metadata": {},
   "source": [
    "\n",
    "\n",
    "$$\\frac{dx}{dy}+y=e^{2x}$$\n",
    "\n",
    "**1. 적분인자 찾기**\n",
    "\n",
    "\n",
    "일반적인 1계 선형 미분방정식의 형태는\n",
    "\n",
    "\n",
    "$$\\frac{dy}{dx}+p(x)y=r(x)$$\n",
    "\n",
    "입니다. 여기서 $p(x)=1$ 이고 $r(x)=e^{2x}$ 입니다.\n",
    "\n",
    "\n",
    "적분인자는 다음과 같이 정의됩니다:\n",
    "\n",
    "\n",
    "$$\\mu (x)=e^{\\int p(x)\\,dx} =e^{\\int 1\\,dx} =e^x$$\n",
    "\n",
    "**2. 방정식에 적분인자 곱하기**\n",
    "\n",
    "\n",
    "주어진 방정식의 양변에 $e^x$ 를 곱합니다:\n",
    "\n",
    "\n",
    "$$e^x \\frac{dy}{dx}+e^x y=e^x e^{2x}$$\n",
    "\n",
    "좌변은 완전 미분 형태가 되어\n",
    "\n",
    "\n",
    "$$\\frac{d}{dx}\\left(e^x y\\right)=e^{3x}$$\n",
    "\n",
    "**3. 양변을 적분**\n",
    "\n",
    "\n",
    "$$e^x y=\\int e^{3x} \\,dx$$\n",
    "\n",
    "우변을 적분하면\n",
    "\n",
    "\n",
    "$$e^x y=\\frac{1}{3}e^{3x} +C$$\n",
    "\n",
    "여기서 $C$ 는 적분 상수입니다.\n",
    "\n",
    "\n",
    " **4.** $y$ **에 대한 식 정리**\n",
    "\n",
    "\n",
    "$$y=\\frac{1}{3}e^{2x} +Ce^{-x}$$\n",
    "\n",
    "**최종 일반해**\n",
    "\n",
    "\n",
    "주어진 미분방정식의 일반해는\n",
    "\n",
    "\n",
    "$$y=\\frac{1}{3}e^{2x} +Ce^{-x}$$"
   ]
  },
  {
   "cell_type": "code",
   "execution_count": 10,
   "metadata": {},
   "source": [
    "% Define the range of x values\n",
    "x_values = linspace(0, 5, 100); % x의 범위: 0부터 5까지 100개의 점을 생성\n",
    "\n",
    "% Define the initial condition y(0) = y0\n",
    "y0 = 0;  % 초기 조건\n",
    "\n",
    "% Solve for the constant C using the initial condition y(0) = 0\n",
    "C = y0 - (1/3);\n",
    "\n",
    "% Calculate the analytical solution y for each x value\n",
    "y_values = (1/3) * exp(2 * x_values) + C * exp(-x_values);\n",
    "\n",
    "% Display the results\n",
    "results = table(x_values', y_values', 'VariableNames', {'x', 'y_analytical'});\n",
    "disp(results);"
   ],
   "outputs": [
    {
     "data": {
      "text/plain": [
       "       x        y_analytical\n",
       "    ________    ____________\n",
       "           0             0  \n",
       "    0.050505      0.051846  \n",
       "     0.10101       0.10665  \n",
       "     0.15152       0.16485  \n",
       "     0.20202       0.22693  \n",
       "     0.25253       0.29341  \n",
       "     0.30303       0.36487  \n",
       "     0.35354       0.44195  \n",
       "     0.40404       0.52533  \n",
       "     0.45455       0.61578  \n",
       "     0.50505       0.71413  \n",
       "     0.55556       0.82133  \n",
       "     0.60606       0.93837  \n",
       "     0.65657        1.0664  \n",
       "     0.70707        1.2066  \n",
       "     0.75758        1.3604  \n",
       "     0.80808        1.5293  \n",
       "     0.85859         1.715  \n",
       "     0.90909        1.9193  \n",
       "      0.9596        2.1441  \n",
       "1.0101        2.3919\n",
       "2. 0606         2.665\n",
       "3. 1111        2.9662\n",
       "4. 1616        3.2985\n",
       "5. 2121        3.6654\n",
       "6. 2626        4.0704\n",
       "7. 3131        4.5177\n",
       "8. 3636        5.0118\n",
       "9. 4141        5.5578\n",
       "10. 4646        6.1611\n",
       "11. 5152        6.8279\n",
       "12. 5657         7.565\n",
       "13. 6162        8.3799\n",
       "14. 6667        9.2809\n",
       "15. 7172        10.277\n",
       "16. 7677        11.379\n",
       "17. 8182        12.597\n",
       "18. 8687        13.944\n",
       "19. 9192        15.435\n",
       "20. 9697        17.083\n",
       "      2.0202        18.906  \n",
       "      2.0707        20.922  \n",
       "      2.1212        23.152  \n",
       "      2.1717        25.619  \n",
       "      2.2222        28.348  \n",
       "      2.2727        31.367  \n",
       "      2.3232        34.706  \n",
       "      2.3737          38.4  \n",
       "      2.4242        42.486  \n",
       "      2.4747        47.006  \n",
       "      2.5253        52.007  \n",
       "      2.5758        57.539  \n",
       "      2.6263        63.659  \n",
       "      2.6768        70.428  \n",
       "      2.7273        77.918  \n",
       "      2.7778        86.203  \n",
       "      2.8283        95.368  \n",
       "      2.8788        105.51  \n",
       "      2.9293        116.73  \n",
       "      2.9798        129.13  \n",
       "      3.0303        142.86  \n",
       "      3.0808        158.05  \n",
       "      3.1313        174.85  \n",
       "      3.1818        193.44  \n",
       "      3.2323           214  \n",
       "      3.2828        236.75  \n",
       "      3.3333        261.91  \n",
       "      3.3838        289.75  \n",
       "      3.4343        320.55  \n",
       "      3.4848        354.62  \n",
       "      3.5354        392.32  \n",
       "      3.5859        434.02  \n",
       "      3.6364        480.15  \n",
       "      3.6869        531.18  \n",
       "      3.7374        587.64  \n",
       "      3.7879         650.1  \n",
       "      3.8384         719.2  \n",
       "      3.8889        795.65  \n",
       "      3.9394        880.22  \n",
       "      3.9899        973.77  \n",
       "      4.0404        1077.3  \n",
       "      4.0909        1191.8  \n",
       "      4.1414        1318.4  \n",
       "      4.1919        1458.6  \n",
       "      4.2424        1613.6  \n",
       "      4.2929        1785.1  \n",
       "      4.3434        1974.9  \n",
       "      4.3939        2184.8  \n",
       "      4.4444          2417  \n",
       "      4.4949        2673.9  \n",
       "      4.5455        2958.1  \n",
       "       4.596        3272.5  \n",
       "      4.6465        3620.3  \n",
       "       4.697        4005.1  \n",
       "      4.7475        4430.8  \n",
       "       4.798        4901.7  \n",
       "      4.8485        5422.7  \n",
       "       4.899        5999.1  \n",
       "      4.9495        6636.7  \n",
       "           5        7342.2"
      ]
     },
     "metadata": {},
     "execution_count":  10,
     "output_type": "execute_result"
    }
   ]
  },
  {
   "cell_type": "code",
   "execution_count": 11,
   "metadata": {},
   "source": [
    "\n",
    "% Plot the analytical solution\n",
    "figure;\n",
    "plot(x_values, y_values, 'r-', 'LineWidth', 2);\n",
    "xlabel('x');\n",
    "ylabel('y (Analytical Solution)');\n",
    "title('Analytical Solution of dy/dx + y = e^{2x}');\n",
    "grid on;"
   ],
   "outputs": [
    {
     "data": {
      "text/html": [
       "<center><img src=\"data:image/jpg;base64,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\" width=\"430\" alt=\"figure_0.jpg\"></center>"
      ]
     },
     "metadata": {},
     "execution_count":  11,
     "output_type": "execute_result"
    }
   ]
  },
  {
   "cell_type": "markdown",
   "metadata": {},
   "source": [
    "\n",
    "\n",
    "!!!EndOutputRegion!!!"
   ]
  }
 ],
 "metadata": {
  "kernelspec": {
   "display_name": "MATLAB (matlabkernel)",
   "language": "matlab",
   "name": "matlab"
  },
  "language_info": {
   "file_extension": ".m",
   "mimetype": "text/matlab",
   "name": "matlab",
   "nbconvert_exporter": "matlab",
   "pygments_lexer": "matlab",
   "version": "24.2.0.2712019"
  }
 },
 "nbformat": 4,
 "nbformat_minor": 4
}